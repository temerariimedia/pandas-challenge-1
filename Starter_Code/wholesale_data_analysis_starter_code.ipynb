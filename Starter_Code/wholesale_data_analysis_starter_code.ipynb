{
 "cells": [
  {
   "cell_type": "markdown",
   "id": "dc0318d6",
   "metadata": {},
   "source": [
    "## Part 1: Explore the Data\n",
    "\n",
    "Import the data and use Pandas to learn more about the dataset."
   ]
  },
  {
   "cell_type": "code",
   "execution_count": 1,
   "id": "e076f57f",
   "metadata": {},
   "outputs": [
    {
     "data": {
      "text/html": [
       "<div>\n",
       "<style scoped>\n",
       "    .dataframe tbody tr th:only-of-type {\n",
       "        vertical-align: middle;\n",
       "    }\n",
       "\n",
       "    .dataframe tbody tr th {\n",
       "        vertical-align: top;\n",
       "    }\n",
       "\n",
       "    .dataframe thead th {\n",
       "        text-align: right;\n",
       "    }\n",
       "</style>\n",
       "<table border=\"1\" class=\"dataframe\">\n",
       "  <thead>\n",
       "    <tr style=\"text-align: right;\">\n",
       "      <th></th>\n",
       "      <th>first</th>\n",
       "      <th>last</th>\n",
       "      <th>job</th>\n",
       "      <th>phone</th>\n",
       "      <th>email</th>\n",
       "      <th>client_id</th>\n",
       "      <th>order_id</th>\n",
       "      <th>order_date</th>\n",
       "      <th>order_week</th>\n",
       "      <th>order_year</th>\n",
       "      <th>item_id</th>\n",
       "      <th>category</th>\n",
       "      <th>subcategory</th>\n",
       "      <th>unit_price</th>\n",
       "      <th>unit_cost</th>\n",
       "      <th>unit_weight</th>\n",
       "      <th>qty</th>\n",
       "      <th>line_number</th>\n",
       "    </tr>\n",
       "  </thead>\n",
       "  <tbody>\n",
       "    <tr>\n",
       "      <th>0</th>\n",
       "      <td>Donald</td>\n",
       "      <td>Harding</td>\n",
       "      <td>Immunologist</td>\n",
       "      <td>793-904-7725x39308</td>\n",
       "      <td>harding.donald.7185@sullivan.com</td>\n",
       "      <td>58515</td>\n",
       "      <td>8953482</td>\n",
       "      <td>2023-04-28</td>\n",
       "      <td>17</td>\n",
       "      <td>2023</td>\n",
       "      <td>EUD29711-63-6U</td>\n",
       "      <td>decor</td>\n",
       "      <td>wall art</td>\n",
       "      <td>1096.80</td>\n",
       "      <td>762.71</td>\n",
       "      <td>7.50</td>\n",
       "      <td>105</td>\n",
       "      <td>1</td>\n",
       "    </tr>\n",
       "    <tr>\n",
       "      <th>1</th>\n",
       "      <td>Tiffany</td>\n",
       "      <td>Myers</td>\n",
       "      <td>Music therapist</td>\n",
       "      <td>201.442.4543x942</td>\n",
       "      <td>myers.t.6537@ferguson-johnson.net</td>\n",
       "      <td>37609</td>\n",
       "      <td>8069089</td>\n",
       "      <td>2023-05-19</td>\n",
       "      <td>20</td>\n",
       "      <td>2023</td>\n",
       "      <td>XDA18116-89-4A</td>\n",
       "      <td>consumables</td>\n",
       "      <td>pens</td>\n",
       "      <td>24.95</td>\n",
       "      <td>15.09</td>\n",
       "      <td>1.49</td>\n",
       "      <td>21</td>\n",
       "      <td>0</td>\n",
       "    </tr>\n",
       "    <tr>\n",
       "      <th>2</th>\n",
       "      <td>Shannon</td>\n",
       "      <td>Watson</td>\n",
       "      <td>Immunologist</td>\n",
       "      <td>687.737.9424x8503</td>\n",
       "      <td>swatson8146@payne.net</td>\n",
       "      <td>57113</td>\n",
       "      <td>1902144</td>\n",
       "      <td>2023-01-29</td>\n",
       "      <td>4</td>\n",
       "      <td>2023</td>\n",
       "      <td>ABE59463-05-7E</td>\n",
       "      <td>software</td>\n",
       "      <td>project management</td>\n",
       "      <td>13.52</td>\n",
       "      <td>7.86</td>\n",
       "      <td>1.68</td>\n",
       "      <td>39</td>\n",
       "      <td>6</td>\n",
       "    </tr>\n",
       "    <tr>\n",
       "      <th>3</th>\n",
       "      <td>Nathan</td>\n",
       "      <td>Baker</td>\n",
       "      <td>Accounting technician</td>\n",
       "      <td>827-788-8123x012</td>\n",
       "      <td>bakernathan@benson.com</td>\n",
       "      <td>46554</td>\n",
       "      <td>9031802</td>\n",
       "      <td>2023-04-25</td>\n",
       "      <td>17</td>\n",
       "      <td>2023</td>\n",
       "      <td>ZMM00836-65-0C</td>\n",
       "      <td>consumables</td>\n",
       "      <td>pens</td>\n",
       "      <td>36.42</td>\n",
       "      <td>24.85</td>\n",
       "      <td>1.23</td>\n",
       "      <td>29</td>\n",
       "      <td>3</td>\n",
       "    </tr>\n",
       "    <tr>\n",
       "      <th>4</th>\n",
       "      <td>Christina</td>\n",
       "      <td>Schwartz</td>\n",
       "      <td>Chiropractor</td>\n",
       "      <td>265-829-3643</td>\n",
       "      <td>christinaschwartz9252@mcconnell.com</td>\n",
       "      <td>92089</td>\n",
       "      <td>1322274</td>\n",
       "      <td>2023-05-28</td>\n",
       "      <td>21</td>\n",
       "      <td>2023</td>\n",
       "      <td>BZX55559-12-3X</td>\n",
       "      <td>consumables</td>\n",
       "      <td>misc</td>\n",
       "      <td>195.10</td>\n",
       "      <td>108.17</td>\n",
       "      <td>46.43</td>\n",
       "      <td>20</td>\n",
       "      <td>1</td>\n",
       "    </tr>\n",
       "  </tbody>\n",
       "</table>\n",
       "</div>"
      ],
      "text/plain": [
       "       first      last                    job               phone  \\\n",
       "0     Donald   Harding           Immunologist  793-904-7725x39308   \n",
       "1    Tiffany     Myers        Music therapist    201.442.4543x942   \n",
       "2    Shannon    Watson           Immunologist   687.737.9424x8503   \n",
       "3     Nathan     Baker  Accounting technician    827-788-8123x012   \n",
       "4  Christina  Schwartz           Chiropractor        265-829-3643   \n",
       "\n",
       "                                 email  client_id  order_id  order_date  \\\n",
       "0     harding.donald.7185@sullivan.com      58515   8953482  2023-04-28   \n",
       "1    myers.t.6537@ferguson-johnson.net      37609   8069089  2023-05-19   \n",
       "2                swatson8146@payne.net      57113   1902144  2023-01-29   \n",
       "3               bakernathan@benson.com      46554   9031802  2023-04-25   \n",
       "4  christinaschwartz9252@mcconnell.com      92089   1322274  2023-05-28   \n",
       "\n",
       "   order_week  order_year         item_id     category         subcategory  \\\n",
       "0          17        2023  EUD29711-63-6U        decor            wall art   \n",
       "1          20        2023  XDA18116-89-4A  consumables                pens   \n",
       "2           4        2023  ABE59463-05-7E     software  project management   \n",
       "3          17        2023  ZMM00836-65-0C  consumables                pens   \n",
       "4          21        2023  BZX55559-12-3X  consumables                misc   \n",
       "\n",
       "   unit_price  unit_cost  unit_weight  qty  line_number  \n",
       "0     1096.80     762.71         7.50  105            1  \n",
       "1       24.95      15.09         1.49   21            0  \n",
       "2       13.52       7.86         1.68   39            6  \n",
       "3       36.42      24.85         1.23   29            3  \n",
       "4      195.10     108.17        46.43   20            1  "
      ]
     },
     "execution_count": 1,
     "metadata": {},
     "output_type": "execute_result"
    }
   ],
   "source": [
    "import pandas as pd\n",
    "import numpy as np\n",
    "import scipy as sp  # Corrected the typo from 'scip' to 'scipy'\n",
    "\n",
    "df = pd.read_csv('Resources/client_dataset.csv', encoding='utf-8')\n",
    "df.head()\n"
   ]
  },
  {
   "cell_type": "code",
   "execution_count": 17,
   "id": "71b9bbd2",
   "metadata": {},
   "outputs": [
    {
     "data": {
      "text/plain": [
       "Index(['first', 'last', 'job', 'phone', 'email', 'client_id', 'order_id',\n",
       "       'order_date', 'order_week', 'order_year', 'item_id', 'category',\n",
       "       'subcategory', 'unit_price', 'unit_cost', 'unit_weight', 'qty',\n",
       "       'line_number'],\n",
       "      dtype='object')"
      ]
     },
     "execution_count": 17,
     "metadata": {},
     "output_type": "execute_result"
    }
   ],
   "source": [
    "# View the column names in the data\n",
    "df.columns"
   ]
  },
  {
   "cell_type": "code",
   "execution_count": 18,
   "id": "bc0f4172",
   "metadata": {
    "scrolled": true
   },
   "outputs": [
    {
     "name": "stdout",
     "output_type": "stream",
     "text": [
      "          client_id      order_id    order_week    order_year    unit_price  \\\n",
      "count  54639.000000  5.463900e+04  54639.000000  54639.000000  54639.000000   \n",
      "mean   54837.869416  5.470190e+06     11.359139   2022.993064    136.267207   \n",
      "std    25487.438231  2.599807e+06      7.023499      0.082997    183.873135   \n",
      "min    10033.000000  1.000886e+06      1.000000   2022.000000      0.010000   \n",
      "25%    33593.000000  3.196372e+06      6.000000   2023.000000     20.800000   \n",
      "50%    53305.000000  5.496966e+06     11.000000   2023.000000     68.310000   \n",
      "75%    78498.000000  7.733869e+06     17.000000   2023.000000    173.160000   \n",
      "max    99984.000000  9.998480e+06     52.000000   2023.000000   1396.230000   \n",
      "\n",
      "          unit_cost   unit_weight           qty   line_number  \n",
      "count  54639.000000  54639.000000  5.463900e+04  54639.000000  \n",
      "mean      99.446073      5.004116  5.702646e+02      2.979667  \n",
      "std      133.164267      5.326599  1.879552e+04      2.436320  \n",
      "min        0.010000      0.000000  0.000000e+00      0.000000  \n",
      "25%       14.840000      1.450000  3.200000e+01      1.000000  \n",
      "50%       49.890000      3.240000  6.800000e+01      3.000000  \n",
      "75%      125.570000      6.890000  1.700000e+02      5.000000  \n",
      "max      846.270000     46.430000  3.958244e+06      9.000000  \n"
     ]
    }
   ],
   "source": [
    "# Use the describe function to gather some basic statistics\n",
    "print(df.describe())"
   ]
  },
  {
   "cell_type": "code",
   "execution_count": 19,
   "id": "b24b53cc",
   "metadata": {},
   "outputs": [
    {
     "name": "stdout",
     "output_type": "stream",
     "text": [
      "<class 'pandas.core.frame.DataFrame'>\n",
      "RangeIndex: 54639 entries, 0 to 54638\n",
      "Data columns (total 18 columns):\n",
      " #   Column       Non-Null Count  Dtype  \n",
      "---  ------       --------------  -----  \n",
      " 0   first        54639 non-null  object \n",
      " 1   last         54639 non-null  object \n",
      " 2   job          54639 non-null  object \n",
      " 3   phone        54639 non-null  object \n",
      " 4   email        54639 non-null  object \n",
      " 5   client_id    54639 non-null  int64  \n",
      " 6   order_id     54639 non-null  int64  \n",
      " 7   order_date   54639 non-null  object \n",
      " 8   order_week   54639 non-null  int64  \n",
      " 9   order_year   54639 non-null  int64  \n",
      " 10  item_id      54639 non-null  object \n",
      " 11  category     54639 non-null  object \n",
      " 12  subcategory  54639 non-null  object \n",
      " 13  unit_price   54639 non-null  float64\n",
      " 14  unit_cost    54639 non-null  float64\n",
      " 15  unit_weight  54639 non-null  float64\n",
      " 16  qty          54639 non-null  int64  \n",
      " 17  line_number  54639 non-null  int64  \n",
      "dtypes: float64(3), int64(6), object(9)\n",
      "memory usage: 7.5+ MB\n",
      "None\n"
     ]
    }
   ],
   "source": [
    "# Use this space to do any additional research\n",
    "# and familiarize yourself with the data.\n",
    "print(df.info())"
   ]
  },
  {
   "cell_type": "code",
   "execution_count": 20,
   "id": "551cb358",
   "metadata": {},
   "outputs": [
    {
     "name": "stdout",
     "output_type": "stream",
     "text": [
      "category\n",
      "consumables    23538\n",
      "furniture      11915\n",
      "software        8400\n",
      "Name: count, dtype: int64\n"
     ]
    }
   ],
   "source": [
    "# What three item categories had the most entries?\n",
    "top_categories = df['category'].value_counts().head(3)\n",
    "print(top_categories)"
   ]
  },
  {
   "cell_type": "code",
   "execution_count": 23,
   "id": "5f54e2cf",
   "metadata": {},
   "outputs": [
    {
     "name": "stdout",
     "output_type": "stream",
     "text": [
      "The category with the most entries is: consumables\n",
      "The subcategory with the most entries in consumables is: bathroom supplies\n",
      "subcategory\n",
      "bathroom supplies    6424\n",
      "Name: count, dtype: int64\n"
     ]
    }
   ],
   "source": [
    "# For the category with the most entries, which subcategory had the most entries?\n",
    "most_common_category = df['category'].value_counts().idxmax()\n",
    "print(f\"The category with the most entries is: {most_common_category}\")\n",
    "\n",
    "category_df = df[df['category'] == most_common_category]\n",
    "top_subcategory = category_df['subcategory'].value_counts().idxmax()\n",
    "print(f\"The subcategory with the most entries in {most_common_category} is: {top_subcategory}\")\n",
    "\n",
    "subcategory_counts = category_df['subcategory'].value_counts()\n",
    "print(subcategory_counts.head(1))"
   ]
  },
  {
   "cell_type": "code",
   "execution_count": 25,
   "id": "2db94379",
   "metadata": {},
   "outputs": [
    {
     "name": "stdout",
     "output_type": "stream",
     "text": [
      "Top 5 clients with the most entries:\n",
      "client_id\n",
      "33615    220\n",
      "66037    211\n",
      "46820    209\n",
      "38378    207\n",
      "24741    207\n",
      "Name: count, dtype: int64\n"
     ]
    }
   ],
   "source": [
    "# Which five clients had the most entries in the data?\n",
    "top_clients = df['client_id'].value_counts().head(5)\n",
    "print(\"Top 5 clients with the most entries:\")\n",
    "print(top_clients)"
   ]
  },
  {
   "cell_type": "code",
   "execution_count": 26,
   "id": "a6635601",
   "metadata": {},
   "outputs": [
    {
     "name": "stdout",
     "output_type": "stream",
     "text": [
      "Top 5 client IDs stored in a list:\n",
      "[33615, 66037, 46820, 38378, 24741]\n"
     ]
    }
   ],
   "source": [
    "# Store the client ids of those top 5 clients in a list.\n",
    "top_clients_series = df['client_id'].value_counts().head(5)\n",
    "top_client_ids = top_clients_series.index.tolist()\n",
    "print(\"Top 5 client IDs stored in a list:\")\n",
    "print(top_client_ids)"
   ]
  },
  {
   "cell_type": "code",
   "execution_count": 28,
   "id": "c88b8a3e",
   "metadata": {},
   "outputs": [
    {
     "name": "stdout",
     "output_type": "stream",
     "text": [
      "The client ID with the most entries is: 33615\n",
      "Total units ordered by the client ID with the most entries (33615): 64313\n"
     ]
    }
   ],
   "source": [
    "# How many total units (the qty column) did the client with the most entries order order?\n",
    "most_common_client = df['client_id'].value_counts().idxmax()\n",
    "print(f\"The client ID with the most entries is: {most_common_client}\")\n",
    "\n",
    "client_df = df[df['client_id'] == most_common_client]\n",
    "total_units_ordered = client_df['qty'].sum()\n",
    "print(f\"Total units ordered by the client ID with the most entries ({most_common_client}): {total_units_ordered}\")"
   ]
  },
  {
   "cell_type": "markdown",
   "id": "257fcd7d",
   "metadata": {},
   "source": [
    "## Part 2: Transform the Data\n",
    "Do we know that this client spent the more money than client 66037? If not, how would we find out? Transform the data using the steps below to prepare it for analysis."
   ]
  },
  {
   "cell_type": "code",
   "execution_count": 29,
   "id": "0c25c4a8",
   "metadata": {},
   "outputs": [
    {
     "name": "stdout",
     "output_type": "stream",
     "text": [
      "   unit_price  qty  line_subtotal\n",
      "0     1096.80  105      115164.00\n",
      "1       24.95   21         523.95\n",
      "2       13.52   39         527.28\n",
      "3       36.42   29        1056.18\n",
      "4      195.10   20        3902.00\n"
     ]
    }
   ],
   "source": [
    "# Create a column that calculates the subtotal for each line using the unit_price and the qty\n",
    "df['line_subtotal'] = df['unit_price'] * df['qty']\n",
    "print(df[['unit_price', 'qty', 'line_subtotal']].head())"
   ]
  },
  {
   "cell_type": "code",
   "execution_count": 78,
   "id": "ac9dafc8",
   "metadata": {},
   "outputs": [
    {
     "name": "stdout",
     "output_type": "stream",
     "text": [
      "   unit_price  unit_weight  qty  total_weight  shipping_price\n",
      "0     1096.80         7.50  105        787.50         5512.50\n",
      "1       24.95         1.49   21         31.29          312.90\n",
      "2       13.52         1.68   39         65.52          458.64\n",
      "3       36.42         1.23   29         35.67          356.70\n",
      "4      195.10        46.43   20        928.60         6500.20\n"
     ]
    }
   ],
   "source": [
    "# Create a column for shipping price.\n",
    "# Assume a shipping price of $7 per pound for orders over 50 pounds and $10 per pound for items 50 pounds or under.\n",
    "df['total_weight'] = df['unit_weight'] * df['qty']\n",
    "df['shipping_price'] = np.where(df['total_weight'] > 50, df['total_weight'] * 7, df['total_weight'] * 10)\n",
    "result = df[['unit_price', 'unit_weight', 'qty', 'total_weight', 'shipping_price']]\n",
    "print(result.head())"
   ]
  },
  {
   "cell_type": "code",
   "execution_count": 155,
   "id": "77f42c67",
   "metadata": {
    "scrolled": true
   },
   "outputs": [
    {
     "name": "stdout",
     "output_type": "stream",
     "text": [
      "   line_subtotal  shipping_price  line_price\n",
      "0      115164.00         5512.50   131839.08\n",
      "1         523.95          312.90      914.26\n",
      "2         527.28          458.64     1077.12\n",
      "3        1056.18          356.70     1543.57\n",
      "4        3902.00         6500.20    11364.40\n"
     ]
    }
   ],
   "source": [
    "# Create a column for the total price using the subtotal and the shipping price along with a sales tax of 9.25%\n",
    "# Calculate the total line price including sales tax\n",
    "df['line_price'] = (df['line_subtotal'] + df['shipping_price']) * 1.0925\n",
    "df['line_price'] = df['line_price'].round(2)\n",
    "\n",
    "print(df[['line_subtotal', 'shipping_price', 'line_price']].head())\n"
   ]
  },
  {
   "cell_type": "code",
   "execution_count": 156,
   "id": "413665ce-045e-4d7b-9083-ad34b5bea50e",
   "metadata": {},
   "outputs": [
    {
     "name": "stdout",
     "output_type": "stream",
     "text": [
      "   unit_cost  qty  shipping_price  line_cost\n",
      "0     762.71  105         5512.50   85597.05\n",
      "1      15.09   21          312.90     629.79\n",
      "2       7.86   39          458.64     765.18\n",
      "3      24.85   29          356.70    1077.35\n",
      "4     108.17   20         6500.20    8663.60\n"
     ]
    }
   ],
   "source": [
    "# Create a column for the cost of each line using unit cost, qty, and\n",
    "# shipping price (assume the shipping cost is exactly what is charged to the client).\n",
    "df['line_cost'] = (df['unit_cost'] * df['qty']) + df['shipping_price']\n",
    "result = df[['unit_cost', 'qty', 'shipping_price', 'line_cost']]\n",
    "print(result.head())\n",
    "\n",
    "\n"
   ]
  },
  {
   "cell_type": "code",
   "execution_count": 167,
   "id": "e2389018",
   "metadata": {},
   "outputs": [
    {
     "name": "stdout",
     "output_type": "stream",
     "text": [
      "   line_cost  line_price  line_profit\n",
      "0   85597.05   131839.08     46242.03\n",
      "1     629.79      914.26       284.47\n",
      "2     765.18     1077.12       311.94\n",
      "3    1077.35     1543.57       466.22\n",
      "4    8663.60    11364.40      2700.80\n"
     ]
    }
   ],
   "source": [
    "# Create a column for the profit of each line using line cost and line price\n",
    "# Ensure line_price is numeric by removing the currency formatting if necessary\n",
    "df['line_price'] = df['line_price'].replace({r'\\$': '', ',': ''}, regex=True).astype(float)\n",
    "\n",
    "# Calculate the profit for each line\n",
    "df['line_profit'] = df['line_price'] - df['line_cost']\n",
    "\n",
    "# Display the first few rows to verify the new column\n",
    "print(df[['line_cost', 'line_price', 'line_profit']].head())"
   ]
  },
  {
   "cell_type": "markdown",
   "id": "ef6f62b1",
   "metadata": {},
   "source": [
    "## Part 3: Confirm your work\n",
    "You have email receipts showing that the total prices for 3 orders. Confirm that your calculations match the receipts. Remember, each order has multiple lines.\n",
    "\n",
    "Order ID 2742071 had a total price of \\$152,811.89\n",
    "\n",
    "Order ID 2173913 had a total price of \\$162,388.71\n",
    "\n",
    "Order ID 6128929 had a total price of \\$923,441.25\n"
   ]
  },
  {
   "cell_type": "code",
   "execution_count": 229,
   "id": "c0e5d68e",
   "metadata": {},
   "outputs": [
    {
     "name": "stdout",
     "output_type": "stream",
     "text": [
      "Order ID 2742071\n",
      "Total: $152811.89\n",
      "Order ID 2173913\n",
      "Total: $162388.71\n",
      "Order ID 6128929\n",
      "Total: $923441.25\n"
     ]
    }
   ],
   "source": [
    "# Check your work using the totals above\n",
    "\n",
    "order_totals = df.groupby('order_id')['line_price'].sum()\n",
    "\n",
    "receipt_totals = {\n",
    "    2742071: 152811.89,\n",
    "    2173913: 162388.71,\n",
    "    6128929: 923441.25\n",
    "}\n",
    "\n",
    "tolerance = 0\n",
    "\n",
    "for order_id, expected_total in receipt_totals.items():\n",
    "    calculated_total = order_totals.get(order_id, 0)\n",
    "    \n",
    "    difference = abs(calculated_total - expected_total)\n",
    "    \n",
    "    print(f\"Order ID {order_id}\")\n",
    "    print(f\"Total: ${calculated_total:.2f}\") "
   ]
  },
  {
   "cell_type": "code",
   "execution_count": 230,
   "id": "033cf337-9b09-4f7b-99c7-f10e8cc5111d",
   "metadata": {
    "jp-MarkdownHeadingCollapsed": true
   },
   "outputs": [],
   "source": [
    "## Part 4: Summarize and Analyze"
   ]
  },
  {
   "cell_type": "code",
   "execution_count": 236,
   "id": "7c005f34",
   "metadata": {},
   "outputs": [
    {
     "name": "stdout",
     "output_type": "stream",
     "text": [
      "Total Amount Spent by Top 5 Clients:\n",
      "Client ID: 33615 - Total Spent: $8,377,308.52\n",
      "Client ID: 66037 - Total Spent: $10,259,514.79\n",
      "Client ID: 46820 - Total Spent: $9,743,794.36\n",
      "Client ID: 38378 - Total Spent: $12,906,550.87\n",
      "Client ID: 24741 - Total Spent: $82,268,892.02\n"
     ]
    }
   ],
   "source": [
    "# How much did each of the top 5 clients by quantity spend? Check your work from Part 1 for client ids.\n",
    "\n",
    "top_client_ids = [33615, 66037, 46820, 38378, 24741]\n",
    "client_spending = df.groupby('client_id')['line_price'].sum()\n",
    "top_clients_spending = client_spending.loc[top_client_ids]\n",
    "\n",
    "print(\"Total Amount Spent by Top 5 Clients:\")\n",
    "for client_id, total_spent in top_clients_spending.items():\n",
    "    print(f\"Client ID: {client_id} - Total Spent: ${total_spent:,.2f}\")\n",
    "\n"
   ]
  },
  {
   "cell_type": "code",
   "execution_count": 237,
   "id": "81b6e4d2",
   "metadata": {},
   "outputs": [
    {
     "name": "stdout",
     "output_type": "stream",
     "text": [
      "           total_units_purchased  total_shipping_price  total_revenue  \\\n",
      "client_id                                                               \n",
      "33615                      64313            1828984.89     8377308.52   \n",
      "66037                      43018            1395151.85    10259514.79   \n",
      "46820                      75768            1601448.84     9743794.36   \n",
      "38378                      73667            3429455.40    12906550.87   \n",
      "24741                     239862            5126448.37    82268892.02   \n",
      "\n",
      "            total_cost  total_profit  \n",
      "client_id                             \n",
      "33615       6175313.91    2201994.61  \n",
      "66037       7004482.98    3255031.81  \n",
      "46820       7007191.64    2736602.72  \n",
      "38378       9634720.98    3271829.89  \n",
      "24741      45688899.71   36579992.31  \n"
     ]
    }
   ],
   "source": [
    "# Create a summary DataFrame showing the totals for the for the top 5 clients with the following information:\n",
    "# total units purchased, total shipping price, total revenue, and total profit. \n",
    "top_client_ids = [33615, 66037, 46820, 38378, 24741]\n",
    "\n",
    "summary = df.groupby('client_id').agg(\n",
    "    total_units_purchased=('qty', 'sum'),\n",
    "    total_shipping_price=('shipping_price', 'sum'),\n",
    "    total_revenue=('line_price', 'sum'),\n",
    "    total_cost=('line_cost', 'sum'),  # Ensure Total Cost is included here\n",
    "    total_profit=('line_profit', 'sum')\n",
    ")\n",
    "\n",
    "top_clients_summary = summary.loc[top_client_ids]\n",
    "\n",
    "print(top_clients_summary)\n"
   ]
  },
  {
   "cell_type": "code",
   "execution_count": 238,
   "id": "7be02867",
   "metadata": {
    "scrolled": true
   },
   "outputs": [
    {
     "name": "stdout",
     "output_type": "stream",
     "text": [
      "   client_id  Units Purchased  Shipping (millions)  Total Revenue (millions)  \\\n",
      "0      33615            64313             1.828985                  8.377309   \n",
      "1      66037            43018             1.395152                 10.259515   \n",
      "2      46820            75768             1.601449                  9.743794   \n",
      "3      38378            73667             3.429455                 12.906551   \n",
      "4      24741           239862             5.126448                 82.268892   \n",
      "\n",
      "   Total Cost (millions)  Total Profit (millions)  \n",
      "0               6.175314                 2.201995  \n",
      "1               7.004483                 3.255032  \n",
      "2               7.007192                 2.736603  \n",
      "3               9.634721                 3.271830  \n",
      "4              45.688900                36.579992  \n"
     ]
    }
   ],
   "source": [
    "# Format the data and rename the columns to names suitable for presentation.\n",
    "top_clients_summary = top_clients_summary.rename(columns={\n",
    "    'total_units_purchased': 'Units Purchased',\n",
    "    'total_shipping_price': 'Shipping Cost',\n",
    "    'total_revenue': 'Total Revenue',\n",
    "    'total_cost': 'Total Cost',  # Include Total Cost here\n",
    "    'total_profit': 'Total Profit'\n",
    "})\n",
    "\n",
    "\n",
    "# Define the money columns. \n",
    "money_columns = ['Shipping Cost', 'Total Revenue', 'Total Cost', 'Total Profit']\n",
    "\n",
    "# Define a function that converts a dollar amount to millions and formats it as currency\n",
    "def currency_format_millions(x):\n",
    "    return x / 1_000_000\n",
    "    \n",
    "# Apply the function to the money columns\n",
    "for col in money_columns:\n",
    "    top_clients_summary[col] = top_clients_summary[col].apply(currency_format_millions)\n",
    "\n",
    "\n",
    "# Rename the columns to reflect the change in the money format. \n",
    "top_clients_summary = top_clients_summary.rename(columns={\n",
    "    'Shipping Cost': 'Shipping (millions)',\n",
    "    'Total Revenue': 'Total Revenue (millions)',\n",
    "    'Total Cost': 'Total Cost (millions)',  # Ensure this is included\n",
    "    'Total Profit': 'Total Profit (millions)'\n",
    "})\n",
    "\n",
    "top_clients_summary = top_clients_summary.reset_index()\n",
    "\n",
    "# Display the formatted DataFrame\n",
    "print(top_clients_summary)"
   ]
  },
  {
   "cell_type": "code",
   "execution_count": 239,
   "id": "8ead0986",
   "metadata": {},
   "outputs": [
    {
     "name": "stdout",
     "output_type": "stream",
     "text": [
      "   index  client_id  Units Purchased  Shipping (millions)  \\\n",
      "0      4      24741           239862             5.126448   \n",
      "1      3      38378            73667             3.429455   \n",
      "2      1      66037            43018             1.395152   \n",
      "3      2      46820            75768             1.601449   \n",
      "4      0      33615            64313             1.828985   \n",
      "\n",
      "   Total Revenue (millions)  Total Cost (millions)  Total Profit (millions)  \n",
      "0                 82.268892              45.688900                36.579992  \n",
      "1                 12.906551               9.634721                 3.271830  \n",
      "2                 10.259515               7.004483                 3.255032  \n",
      "3                  9.743794               7.007192                 2.736603  \n",
      "4                  8.377309               6.175314                 2.201995  \n"
     ]
    }
   ],
   "source": [
    "# Sort the updated data by \"Total Profit (millions)\" form highest to lowest and assign the sort to a new DatFrame.\n",
    "# Sort the DataFrame by \"Total Profit (millions)\" in descending order\n",
    "sorted_top_clients_df = top_clients_summary.sort_values(by='Total Profit (millions)', ascending=False)\n",
    "\n",
    "# Reset the index and ensure that 'Client ID' is included as a column\n",
    "sorted_top_clients_df = sorted_top_clients_df.reset_index()\n",
    "\n",
    "# Display the sorted DataFrame with Client ID\n",
    "print(sorted_top_clients_df)"
   ]
  },
  {
   "cell_type": "code",
   "execution_count": null,
   "id": "87e0e7f8-b60e-4e50-ab07-c36b6deed513",
   "metadata": {},
   "outputs": [],
   "source": []
  },
  {
   "cell_type": "code",
   "execution_count": null,
   "id": "c86def0d-50bd-4ded-a0f8-8460938a0b9c",
   "metadata": {},
   "outputs": [],
   "source": []
  },
  {
   "cell_type": "code",
   "execution_count": null,
   "id": "ea391ee4-9201-4e2c-9d04-060973581a62",
   "metadata": {},
   "outputs": [],
   "source": []
  },
  {
   "cell_type": "code",
   "execution_count": null,
   "id": "d1ed44cb-bcb3-4d52-a68f-6d516b3feea3",
   "metadata": {},
   "outputs": [],
   "source": [
    "\n"
   ]
  },
  {
   "cell_type": "code",
   "execution_count": null,
   "id": "26d0254c-a191-493c-9424-13a32b72a1e0",
   "metadata": {},
   "outputs": [],
   "source": []
  }
 ],
 "metadata": {
  "kernelspec": {
   "display_name": "Python 3 (ipykernel)",
   "language": "python",
   "name": "python3"
  },
  "language_info": {
   "codemirror_mode": {
    "name": "ipython",
    "version": 3
   },
   "file_extension": ".py",
   "mimetype": "text/x-python",
   "name": "python",
   "nbconvert_exporter": "python",
   "pygments_lexer": "ipython3",
   "version": "3.12.4"
  }
 },
 "nbformat": 4,
 "nbformat_minor": 5
}
